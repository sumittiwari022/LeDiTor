{
 "cells": [
  {
   "cell_type": "code",
   "execution_count": 1,
   "metadata": {},
   "outputs": [],
   "source": [
    "import tensorflow as tf\n",
    "import os\n",
    "import numpy as np\n",
    "import matplotlib.pyplot as plt"
   ]
  },
  {
   "cell_type": "code",
   "execution_count": 2,
   "metadata": {},
   "outputs": [
    {
     "data": {
      "text/plain": [
       "'2.4.1'"
      ]
     },
     "execution_count": 2,
     "metadata": {},
     "output_type": "execute_result"
    }
   ],
   "source": [
    "tf.__version__"
   ]
  },
  {
   "cell_type": "code",
   "execution_count": 3,
   "metadata": {},
   "outputs": [],
   "source": [
    "_URL = \"http://127.0.0.1:81/pv/PlantVillage.zip\""
   ]
  },
  {
   "cell_type": "code",
   "execution_count": 5,
   "metadata": {},
   "outputs": [
    {
     "name": "stdout",
     "output_type": "stream",
     "text": [
      "Downloading data from http://127.0.0.1:81/pv/PlantVillage.zip\n",
      "1884446720/1884439091 [==============================] - 18s 0us/step\n"
     ]
    }
   ],
   "source": [
    "zip_file = tf.keras.utils.get_file(origin=_URL, \n",
    "                                   fname=\"PlantVillage.zip\",\n",
    "                                   extract=True)"
   ]
  },
  {
   "cell_type": "code",
   "execution_count": 6,
   "metadata": {},
   "outputs": [],
   "source": [
    "base_dir = os.path.join(os.path.dirname(zip_file), 'PlantVillage\\\\train')\n",
    "base_dir2 = os.path.join(os.path.dirname(zip_file), 'PlantVillage\\\\train')"
   ]
  },
  {
   "cell_type": "code",
   "execution_count": 7,
   "metadata": {},
   "outputs": [],
   "source": [
    "IMAGE_SIZE = 256\n",
    "BATCH_SIZE = 32"
   ]
  },
  {
   "cell_type": "code",
   "execution_count": 8,
   "metadata": {},
   "outputs": [],
   "source": [
    "datagen = tf.keras.preprocessing.image.ImageDataGenerator(\n",
    "    rescale=1./255, \n",
    "    validation_split=0.2)"
   ]
  },
  {
   "cell_type": "code",
   "execution_count": 9,
   "metadata": {},
   "outputs": [
    {
     "name": "stdout",
     "output_type": "stream",
     "text": [
      "Found 46163 images belonging to 47 classes.\n"
     ]
    }
   ],
   "source": [
    "train_generator = datagen.flow_from_directory(\n",
    "    base_dir,\n",
    "    target_size=(IMAGE_SIZE, IMAGE_SIZE),\n",
    "    batch_size=BATCH_SIZE, \n",
    "    subset='training')"
   ]
  },
  {
   "cell_type": "code",
   "execution_count": 10,
   "metadata": {},
   "outputs": [
    {
     "name": "stdout",
     "output_type": "stream",
     "text": [
      "Found 11520 images belonging to 47 classes.\n"
     ]
    }
   ],
   "source": [
    "val_generator = datagen.flow_from_directory(\n",
    "    base_dir2,\n",
    "    target_size=(IMAGE_SIZE, IMAGE_SIZE),\n",
    "    batch_size=BATCH_SIZE, \n",
    "    subset='validation')"
   ]
  },
  {
   "cell_type": "code",
   "execution_count": 11,
   "metadata": {},
   "outputs": [
    {
     "data": {
      "text/plain": [
       "((32, 256, 256, 3), (32, 47))"
      ]
     },
     "execution_count": 11,
     "metadata": {},
     "output_type": "execute_result"
    }
   ],
   "source": [
    "for image_batch, label_batch in train_generator:\n",
    "  break\n",
    "image_batch.shape, label_batch.shape\n"
   ]
  },
  {
   "cell_type": "code",
   "execution_count": 12,
   "metadata": {},
   "outputs": [
    {
     "name": "stdout",
     "output_type": "stream",
     "text": [
      "{'Apple___Apple_scab': 0, 'Apple___Black_rot': 1, 'Apple___Cedar_apple_rust': 2, 'Apple___healthy': 3, 'Blueberry___healthy': 4, 'Cherry_(including_sour)___Powdery_mildew': 5, 'Cherry_(including_sour)___healthy': 6, 'Corn_(maize)___Cercospora_leaf_spot Gray_leaf_spot': 7, 'Corn_(maize)___Common_rust_': 8, 'Corn_(maize)___Northern_Leaf_Blight': 9, 'Corn_(maize)___healthy': 10, 'Grape___Black_rot': 11, 'Grape___Esca_(Black_Measles)': 12, 'Grape___Leaf_blight_(Isariopsis_Leaf_Spot)': 13, 'Grape___healthy': 14, 'Mango_Unhealthy': 15, 'Mango__Healthy': 16, 'Orange___Haunglongbing_(Citrus_greening)': 17, 'Peach___Bacterial_spot': 18, 'Peach___healthy': 19, 'Pepper,_bell___Bacterial_spot': 20, 'Pepper,_bell___healthy': 21, 'Potato___Early_blight': 22, 'Potato___Late_blight': 23, 'Potato___healthy': 24, 'Raspberry___healthy': 25, 'Soybean___healthy': 26, 'Squash___Powdery_mildew': 27, 'Strawberry___Leaf_scorch': 28, 'Strawberry___healthy': 29, 'Tomato___Bacterial_spot': 30, 'Tomato___Early_blight': 31, 'Tomato___Late_blight': 32, 'Tomato___Leaf_Mold': 33, 'Tomato___Septoria_leaf_spot': 34, 'Tomato___Spider_mites Two-spotted_spider_mite': 35, 'Tomato___Target_Spot': 36, 'Tomato___Tomato_Yellow_Leaf_Curl_Virus': 37, 'Tomato___Tomato_mosaic_virus': 38, 'Tomato___healthy': 39, 'background': 40, 'fresh cotton leaf': 41, 'fresh cotton plant': 42, 'fusarium wilt diseased cotton leaf': 43, 'fusarium wilt diseased cotton plant': 44, 'mango_Anthracnose': 45, 'mango_healthy': 46}\n"
     ]
    }
   ],
   "source": [
    "print (train_generator.class_indices)"
   ]
  },
  {
   "cell_type": "code",
   "execution_count": 13,
   "metadata": {},
   "outputs": [],
   "source": [
    "labels = '\\n'.join(sorted(train_generator.class_indices.keys()))"
   ]
  },
  {
   "cell_type": "code",
   "execution_count": 14,
   "metadata": {},
   "outputs": [],
   "source": [
    "with open('new_labels.txt', 'w') as f:\n",
    "  f.write(labels)"
   ]
  },
  {
   "cell_type": "code",
   "execution_count": 15,
   "metadata": {},
   "outputs": [],
   "source": [
    "IMG_SHAPE = (IMAGE_SIZE, IMAGE_SIZE, 3)"
   ]
  },
  {
   "cell_type": "code",
   "execution_count": 16,
   "metadata": {},
   "outputs": [
    {
     "name": "stdout",
     "output_type": "stream",
     "text": [
      "WARNING:tensorflow:`input_shape` is undefined or non-square, or `rows` is not in [96, 128, 160, 192, 224]. Weights for input shape (224, 224) will be loaded as the default.\n"
     ]
    }
   ],
   "source": [
    "# Create the base model from the pre-trained model MobileNet V2\n",
    "base_model = tf.keras.applications.MobileNetV2(input_shape=IMG_SHAPE,\n",
    "                                              include_top=False, \n",
    "                                              weights='imagenet')"
   ]
  },
  {
   "cell_type": "code",
   "execution_count": 17,
   "metadata": {},
   "outputs": [],
   "source": [
    "base_model.trainable = False"
   ]
  },
  {
   "cell_type": "code",
   "execution_count": 18,
   "metadata": {},
   "outputs": [],
   "source": [
    "model = tf.keras.Sequential([\n",
    "  base_model,\n",
    "  tf.keras.layers.Conv2D(32, (3,3), activation='relu'),\n",
    "  tf.keras.layers.Conv2D(64, (3,3), activation='relu'),\n",
    "  tf.keras.layers.Conv2D(128, (3,3), activation='relu'),\n",
    "  tf.keras.layers.Dropout(0.2),\n",
    "  tf.keras.layers.GlobalAveragePooling2D(),\n",
    "  tf.keras.layers.Dense(47, activation='softmax')\n",
    "])"
   ]
  },
  {
   "cell_type": "code",
   "execution_count": 19,
   "metadata": {},
   "outputs": [],
   "source": [
    "model.compile(optimizer=tf.keras.optimizers.Adam(), \n",
    "              loss='categorical_crossentropy',\n",
    "              metrics=['accuracy'])"
   ]
  },
  {
   "cell_type": "code",
   "execution_count": 20,
   "metadata": {},
   "outputs": [
    {
     "name": "stdout",
     "output_type": "stream",
     "text": [
      "Model: \"sequential\"\n",
      "_________________________________________________________________\n",
      "Layer (type)                 Output Shape              Param #   \n",
      "=================================================================\n",
      "mobilenetv2_1.00_224 (Functi (None, 8, 8, 1280)        2257984   \n",
      "_________________________________________________________________\n",
      "conv2d (Conv2D)              (None, 6, 6, 32)          368672    \n",
      "_________________________________________________________________\n",
      "conv2d_1 (Conv2D)            (None, 4, 4, 64)          18496     \n",
      "_________________________________________________________________\n",
      "conv2d_2 (Conv2D)            (None, 2, 2, 128)         73856     \n",
      "_________________________________________________________________\n",
      "dropout (Dropout)            (None, 2, 2, 128)         0         \n",
      "_________________________________________________________________\n",
      "global_average_pooling2d (Gl (None, 128)               0         \n",
      "_________________________________________________________________\n",
      "dense (Dense)                (None, 47)                6063      \n",
      "=================================================================\n",
      "Total params: 2,725,071\n",
      "Trainable params: 467,087\n",
      "Non-trainable params: 2,257,984\n",
      "_________________________________________________________________\n"
     ]
    }
   ],
   "source": [
    "model.summary()"
   ]
  },
  {
   "cell_type": "code",
   "execution_count": null,
   "metadata": {},
   "outputs": [],
   "source": []
  },
  {
   "cell_type": "code",
   "execution_count": 21,
   "metadata": {},
   "outputs": [
    {
     "name": "stdout",
     "output_type": "stream",
     "text": [
      "Number of trainable variables = 8\n"
     ]
    }
   ],
   "source": [
    "print('Number of trainable variables = {}'.format(len(model.trainable_variables)))"
   ]
  },
  {
   "cell_type": "code",
   "execution_count": 22,
   "metadata": {},
   "outputs": [],
   "source": [
    "epochs = 101"
   ]
  },
  {
   "cell_type": "code",
   "execution_count": 23,
   "metadata": {},
   "outputs": [
    {
     "name": "stderr",
     "output_type": "stream",
     "text": [
      "C:\\Anaconda\\lib\\site-packages\\tensorflow\\python\\keras\\engine\\training.py:1844: UserWarning: `Model.fit_generator` is deprecated and will be removed in a future version. Please use `Model.fit`, which supports generators.\n",
      "  warnings.warn('`Model.fit_generator` is deprecated and '\n"
     ]
    },
    {
     "name": "stdout",
     "output_type": "stream",
     "text": [
      "Epoch 1/101\n",
      "1443/1443 [==============================] - 583s 391ms/step - loss: 1.1308 - accuracy: 0.6840 - val_loss: 0.4455 - val_accuracy: 0.8582\n",
      "Epoch 2/101\n",
      "1443/1443 [==============================] - 333s 231ms/step - loss: 0.3393 - accuracy: 0.8913 - val_loss: 0.3586 - val_accuracy: 0.8850\n",
      "Epoch 3/101\n",
      "1443/1443 [==============================] - 339s 235ms/step - loss: 0.2643 - accuracy: 0.9157 - val_loss: 0.3578 - val_accuracy: 0.8926\n",
      "Epoch 4/101\n",
      "1443/1443 [==============================] - 354s 245ms/step - loss: 0.2181 - accuracy: 0.9317 - val_loss: 0.3064 - val_accuracy: 0.9072\n",
      "Epoch 5/101\n",
      "1443/1443 [==============================] - 374s 259ms/step - loss: 0.1923 - accuracy: 0.9393 - val_loss: 0.3191 - val_accuracy: 0.9078\n",
      "Epoch 6/101\n",
      "1443/1443 [==============================] - 370s 257ms/step - loss: 0.1732 - accuracy: 0.9437 - val_loss: 0.3582 - val_accuracy: 0.9062\n",
      "Epoch 7/101\n",
      "1443/1443 [==============================] - 403s 279ms/step - loss: 0.1512 - accuracy: 0.9532 - val_loss: 0.3574 - val_accuracy: 0.9107\n",
      "Epoch 8/101\n",
      "1443/1443 [==============================] - 425s 295ms/step - loss: 0.1473 - accuracy: 0.9535 - val_loss: 0.3825 - val_accuracy: 0.9098\n",
      "Epoch 9/101\n",
      "1443/1443 [==============================] - 437s 303ms/step - loss: 0.1321 - accuracy: 0.9588 - val_loss: 0.3508 - val_accuracy: 0.9168\n",
      "Epoch 10/101\n",
      "1443/1443 [==============================] - 423s 293ms/step - loss: 0.1198 - accuracy: 0.9631 - val_loss: 0.3476 - val_accuracy: 0.9176\n",
      "Epoch 11/101\n",
      "1443/1443 [==============================] - 428s 296ms/step - loss: 0.1117 - accuracy: 0.9668 - val_loss: 0.3579 - val_accuracy: 0.9195\n",
      "Epoch 12/101\n",
      "1443/1443 [==============================] - 448s 310ms/step - loss: 0.1172 - accuracy: 0.9662 - val_loss: 0.3578 - val_accuracy: 0.9206\n",
      "Epoch 13/101\n",
      "1443/1443 [==============================] - 470s 326ms/step - loss: 0.1082 - accuracy: 0.9684 - val_loss: 0.4568 - val_accuracy: 0.9086\n",
      "Epoch 14/101\n",
      "1443/1443 [==============================] - 482s 334ms/step - loss: 0.0896 - accuracy: 0.9732 - val_loss: 0.4724 - val_accuracy: 0.9098\n",
      "Epoch 15/101\n",
      "1443/1443 [==============================] - 490s 339ms/step - loss: 0.1005 - accuracy: 0.9725 - val_loss: 0.3930 - val_accuracy: 0.9186\n",
      "Epoch 16/101\n",
      "1443/1443 [==============================] - 491s 340ms/step - loss: 0.0944 - accuracy: 0.9740 - val_loss: 0.4081 - val_accuracy: 0.9219\n",
      "Epoch 17/101\n",
      "1443/1443 [==============================] - 505s 350ms/step - loss: 0.0846 - accuracy: 0.9778 - val_loss: 0.4330 - val_accuracy: 0.9166\n",
      "Epoch 18/101\n",
      "1443/1443 [==============================] - 525s 364ms/step - loss: 0.0944 - accuracy: 0.9746 - val_loss: 0.4422 - val_accuracy: 0.9214\n",
      "Epoch 19/101\n",
      "1443/1443 [==============================] - 531s 368ms/step - loss: 0.0803 - accuracy: 0.9786 - val_loss: 0.4664 - val_accuracy: 0.9259\n",
      "Epoch 20/101\n",
      "1443/1443 [==============================] - 536s 371ms/step - loss: 0.0831 - accuracy: 0.9781 - val_loss: 0.4218 - val_accuracy: 0.9244\n",
      "Epoch 21/101\n",
      "1443/1443 [==============================] - 541s 375ms/step - loss: 0.0724 - accuracy: 0.9815 - val_loss: 0.4525 - val_accuracy: 0.9282\n",
      "Epoch 22/101\n",
      "1443/1443 [==============================] - 573s 397ms/step - loss: 0.0914 - accuracy: 0.9777 - val_loss: 0.5227 - val_accuracy: 0.9112\n",
      "Epoch 23/101\n",
      "1443/1443 [==============================] - 583s 404ms/step - loss: 0.1005 - accuracy: 0.9756 - val_loss: 0.5907 - val_accuracy: 0.9170\n",
      "Epoch 24/101\n",
      "1443/1443 [==============================] - 593s 411ms/step - loss: 0.0782 - accuracy: 0.9802 - val_loss: 0.5715 - val_accuracy: 0.9247\n",
      "Epoch 25/101\n",
      "1443/1443 [==============================] - 626s 434ms/step - loss: 0.0788 - accuracy: 0.9810 - val_loss: 0.4837 - val_accuracy: 0.9254\n",
      "Epoch 26/101\n",
      "1443/1443 [==============================] - 636s 441ms/step - loss: 0.0650 - accuracy: 0.9831 - val_loss: 0.5642 - val_accuracy: 0.9207\n",
      "Epoch 27/101\n",
      "1443/1443 [==============================] - 671s 465ms/step - loss: 0.0827 - accuracy: 0.9800 - val_loss: 0.6484 - val_accuracy: 0.9236\n",
      "Epoch 28/101\n",
      "1443/1443 [==============================] - 665s 461ms/step - loss: 0.0650 - accuracy: 0.9840 - val_loss: 0.6296 - val_accuracy: 0.9249\n",
      "Epoch 29/101\n",
      "1443/1443 [==============================] - 671s 465ms/step - loss: 0.0821 - accuracy: 0.9833 - val_loss: 0.5772 - val_accuracy: 0.9196\n",
      "Epoch 30/101\n",
      "1443/1443 [==============================] - 677s 469ms/step - loss: 0.0661 - accuracy: 0.9836 - val_loss: 0.6019 - val_accuracy: 0.9265\n",
      "Epoch 31/101\n",
      "1443/1443 [==============================] - 698s 483ms/step - loss: 0.0793 - accuracy: 0.9828 - val_loss: 0.6170 - val_accuracy: 0.9244\n",
      "Epoch 32/101\n",
      "1443/1443 [==============================] - 718s 498ms/step - loss: 0.0677 - accuracy: 0.9848 - val_loss: 0.8329 - val_accuracy: 0.9153\n",
      "Epoch 33/101\n",
      "1443/1443 [==============================] - 738s 512ms/step - loss: 0.0740 - accuracy: 0.9835 - val_loss: 0.6344 - val_accuracy: 0.9242\n",
      "Epoch 34/101\n",
      "1443/1443 [==============================] - 738s 512ms/step - loss: 0.0579 - accuracy: 0.9864 - val_loss: 0.6647 - val_accuracy: 0.9209\n",
      "Epoch 35/101\n",
      "1443/1443 [==============================] - 742s 514ms/step - loss: 0.0712 - accuracy: 0.9851 - val_loss: 0.6831 - val_accuracy: 0.9280\n",
      "Epoch 36/101\n",
      "1443/1443 [==============================] - 751s 520ms/step - loss: 0.0761 - accuracy: 0.9844 - val_loss: 0.7244 - val_accuracy: 0.9290\n",
      "Epoch 37/101\n",
      "1443/1443 [==============================] - 762s 528ms/step - loss: 0.0640 - accuracy: 0.9877 - val_loss: 0.7661 - val_accuracy: 0.9239\n",
      "Epoch 38/101\n",
      "1443/1443 [==============================] - 769s 533ms/step - loss: 0.0872 - accuracy: 0.9835 - val_loss: 0.6679 - val_accuracy: 0.9194\n",
      "Epoch 39/101\n",
      "1443/1443 [==============================] - 780s 540ms/step - loss: 0.0562 - accuracy: 0.9866 - val_loss: 0.8287 - val_accuracy: 0.9150\n",
      "Epoch 40/101\n",
      "1443/1443 [==============================] - 793s 550ms/step - loss: 0.1199 - accuracy: 0.9799 - val_loss: 0.7368 - val_accuracy: 0.9247\n",
      "Epoch 41/101\n",
      "1443/1443 [==============================] - 808s 560ms/step - loss: 0.0530 - accuracy: 0.9883 - val_loss: 0.7336 - val_accuracy: 0.9239\n",
      "Epoch 42/101\n",
      "1443/1443 [==============================] - 817s 566ms/step - loss: 0.0690 - accuracy: 0.9861 - val_loss: 0.9819 - val_accuracy: 0.9192\n",
      "Epoch 43/101\n",
      "1443/1443 [==============================] - 819s 568ms/step - loss: 0.0848 - accuracy: 0.9837 - val_loss: 0.6625 - val_accuracy: 0.9293\n",
      "Epoch 44/101\n",
      "1443/1443 [==============================] - 834s 578ms/step - loss: 0.0612 - accuracy: 0.9879 - val_loss: 0.7703 - val_accuracy: 0.9174\n",
      "Epoch 45/101\n",
      "1443/1443 [==============================] - 842s 584ms/step - loss: 0.0678 - accuracy: 0.9863 - val_loss: 0.8356 - val_accuracy: 0.9273\n",
      "Epoch 46/101\n",
      "1443/1443 [==============================] - 849s 589ms/step - loss: 0.0642 - accuracy: 0.9879 - val_loss: 1.0046 - val_accuracy: 0.9230\n",
      "Epoch 47/101\n",
      "1443/1443 [==============================] - 868s 602ms/step - loss: 0.0686 - accuracy: 0.9878 - val_loss: 0.7891 - val_accuracy: 0.9254\n",
      "Epoch 48/101\n",
      "1443/1443 [==============================] - 876s 607ms/step - loss: 0.0919 - accuracy: 0.9847 - val_loss: 0.8037 - val_accuracy: 0.9279\n",
      "Epoch 49/101\n",
      "1443/1443 [==============================] - 881s 611ms/step - loss: 0.0702 - accuracy: 0.9886 - val_loss: 0.8837 - val_accuracy: 0.9282\n",
      "Epoch 50/101\n",
      "1443/1443 [==============================] - 872s 604ms/step - loss: 0.0680 - accuracy: 0.9875 - val_loss: 0.7506 - val_accuracy: 0.9234\n",
      "Epoch 51/101\n",
      "1443/1443 [==============================] - 893s 619ms/step - loss: 0.0732 - accuracy: 0.9862 - val_loss: 0.7851 - val_accuracy: 0.9264\n",
      "Epoch 52/101\n",
      "1443/1443 [==============================] - 996s 690ms/step - loss: 0.0556 - accuracy: 0.9888 - val_loss: 1.0367 - val_accuracy: 0.9250\n",
      "Epoch 53/101\n",
      "1443/1443 [==============================] - 1052s 729ms/step - loss: 0.1008 - accuracy: 0.9843 - val_loss: 1.1032 - val_accuracy: 0.9188\n",
      "Epoch 54/101\n",
      "1443/1443 [==============================] - 1537s 1s/step - loss: 0.0744 - accuracy: 0.9869 - val_loss: 0.9387 - val_accuracy: 0.9241\n",
      "Epoch 55/101\n"
     ]
    },
    {
     "name": "stdout",
     "output_type": "stream",
     "text": [
      "1443/1443 [==============================] - 1395s 967ms/step - loss: 0.0746 - accuracy: 0.9874 - val_loss: 1.1108 - val_accuracy: 0.9196\n",
      "Epoch 56/101\n",
      "1443/1443 [==============================] - 1256s 870ms/step - loss: 0.0897 - accuracy: 0.9854 - val_loss: 0.9452 - val_accuracy: 0.9220\n",
      "Epoch 57/101\n",
      "1443/1443 [==============================] - 1180s 818ms/step - loss: 0.0747 - accuracy: 0.9883 - val_loss: 0.9500 - val_accuracy: 0.9251\n",
      "Epoch 58/101\n",
      "1443/1443 [==============================] - 1354s 939ms/step - loss: 0.0846 - accuracy: 0.9862 - val_loss: 0.8769 - val_accuracy: 0.9235\n",
      "Epoch 59/101\n",
      "1443/1443 [==============================] - 1250s 866ms/step - loss: 0.0792 - accuracy: 0.9878 - val_loss: 0.8776 - val_accuracy: 0.9303\n",
      "Epoch 60/101\n",
      "1443/1443 [==============================] - 1277s 885ms/step - loss: 0.0983 - accuracy: 0.9849 - val_loss: 0.8813 - val_accuracy: 0.9268\n",
      "Epoch 61/101\n",
      "1443/1443 [==============================] - 1315s 912ms/step - loss: 0.0858 - accuracy: 0.9880 - val_loss: 1.0884 - val_accuracy: 0.9253\n",
      "Epoch 62/101\n",
      "1443/1443 [==============================] - 1264s 876ms/step - loss: 0.0599 - accuracy: 0.9893 - val_loss: 1.2199 - val_accuracy: 0.9165\n",
      "Epoch 63/101\n",
      "1443/1443 [==============================] - 1327s 919ms/step - loss: 0.1035 - accuracy: 0.9847 - val_loss: 1.0457 - val_accuracy: 0.9244\n",
      "Epoch 64/101\n",
      "1443/1443 [==============================] - 1464s 1s/step - loss: 0.0628 - accuracy: 0.9888 - val_loss: 1.2911 - val_accuracy: 0.9234\n",
      "Epoch 65/101\n",
      "1443/1443 [==============================] - 1353s 938ms/step - loss: 0.0682 - accuracy: 0.9891 - val_loss: 1.0919 - val_accuracy: 0.9234\n",
      "Epoch 66/101\n",
      "1443/1443 [==============================] - 1447s 1s/step - loss: 0.0656 - accuracy: 0.9894 - val_loss: 1.0655 - val_accuracy: 0.9198\n",
      "Epoch 67/101\n",
      "1443/1443 [==============================] - 1312s 910ms/step - loss: 0.0764 - accuracy: 0.9871 - val_loss: 1.5437 - val_accuracy: 0.9195\n",
      "Epoch 68/101\n",
      "1443/1443 [==============================] - 1136s 787ms/step - loss: 0.0779 - accuracy: 0.9877 - val_loss: 1.2732 - val_accuracy: 0.9220\n",
      "Epoch 69/101\n",
      "1443/1443 [==============================] - 1137s 788ms/step - loss: 0.0697 - accuracy: 0.9890 - val_loss: 1.1649 - val_accuracy: 0.9240\n",
      "Epoch 70/101\n",
      "1443/1443 [==============================] - 1066s 739ms/step - loss: 0.0498 - accuracy: 0.9907 - val_loss: 1.2612 - val_accuracy: 0.9290\n",
      "Epoch 71/101\n",
      "1443/1443 [==============================] - 1064s 737ms/step - loss: 0.0973 - accuracy: 0.9868 - val_loss: 1.1262 - val_accuracy: 0.9225\n",
      "Epoch 72/101\n",
      "1443/1443 [==============================] - 1090s 755ms/step - loss: 0.0633 - accuracy: 0.9892 - val_loss: 1.1770 - val_accuracy: 0.9166\n",
      "Epoch 73/101\n",
      "1443/1443 [==============================] - 1078s 747ms/step - loss: 0.0739 - accuracy: 0.9877 - val_loss: 1.0695 - val_accuracy: 0.9292\n",
      "Epoch 74/101\n",
      "1443/1443 [==============================] - 1167s 809ms/step - loss: 0.0752 - accuracy: 0.9889 - val_loss: 1.2703 - val_accuracy: 0.9247\n",
      "Epoch 75/101\n",
      "1443/1443 [==============================] - 1346s 933ms/step - loss: 0.0999 - accuracy: 0.9872 - val_loss: 1.0247 - val_accuracy: 0.9227\n",
      "Epoch 76/101\n",
      "1443/1443 [==============================] - 1223s 848ms/step - loss: 0.0722 - accuracy: 0.9887 - val_loss: 1.1137 - val_accuracy: 0.9201\n",
      "Epoch 77/101\n",
      "1443/1443 [==============================] - 1301s 902ms/step - loss: 0.0632 - accuracy: 0.9897 - val_loss: 1.2068 - val_accuracy: 0.9257\n",
      "Epoch 78/101\n",
      "1443/1443 [==============================] - 1267s 878ms/step - loss: 0.0834 - accuracy: 0.9881 - val_loss: 1.1108 - val_accuracy: 0.9229\n",
      "Epoch 79/101\n",
      "1443/1443 [==============================] - 1271s 881ms/step - loss: 0.0614 - accuracy: 0.9910 - val_loss: 1.8061 - val_accuracy: 0.9174\n",
      "Epoch 80/101\n",
      "1443/1443 [==============================] - 1306s 905ms/step - loss: 0.0880 - accuracy: 0.9878 - val_loss: 1.3323 - val_accuracy: 0.9253\n",
      "Epoch 81/101\n",
      "1443/1443 [==============================] - 1321s 915ms/step - loss: 0.0605 - accuracy: 0.9928 - val_loss: 1.5069 - val_accuracy: 0.9243\n",
      "Epoch 82/101\n",
      "1443/1443 [==============================] - 1364s 945ms/step - loss: 0.0886 - accuracy: 0.9897 - val_loss: 1.4332 - val_accuracy: 0.9173\n",
      "Epoch 83/101\n",
      "1443/1443 [==============================] - 1372s 951ms/step - loss: 0.0872 - accuracy: 0.9883 - val_loss: 1.3202 - val_accuracy: 0.9266\n",
      "Epoch 84/101\n",
      "1443/1443 [==============================] - 1371s 950ms/step - loss: 0.0887 - accuracy: 0.9883 - val_loss: 1.4026 - val_accuracy: 0.9251\n",
      "Epoch 85/101\n",
      "1443/1443 [==============================] - 1405s 974ms/step - loss: 0.0721 - accuracy: 0.9898 - val_loss: 1.3447 - val_accuracy: 0.9210\n",
      "Epoch 86/101\n",
      "1443/1443 [==============================] - 1449s 1s/step - loss: 0.0693 - accuracy: 0.9897 - val_loss: 1.4402 - val_accuracy: 0.9220\n",
      "Epoch 87/101\n",
      "1443/1443 [==============================] - 1519s 1s/step - loss: 0.1042 - accuracy: 0.9891 - val_loss: 1.3869 - val_accuracy: 0.9269\n",
      "Epoch 88/101\n",
      "1443/1443 [==============================] - 1655s 1s/step - loss: 0.0547 - accuracy: 0.9915 - val_loss: 1.4195 - val_accuracy: 0.9267\n",
      "Epoch 89/101\n",
      "1443/1443 [==============================] - 1498s 1s/step - loss: 0.0862 - accuracy: 0.9881 - val_loss: 1.3884 - val_accuracy: 0.9244\n",
      "Epoch 90/101\n",
      "1443/1443 [==============================] - 1420s 984ms/step - loss: 0.0723 - accuracy: 0.9913 - val_loss: 1.3558 - val_accuracy: 0.9252\n",
      "Epoch 91/101\n",
      "1443/1443 [==============================] - 1451s 1s/step - loss: 0.0636 - accuracy: 0.9909 - val_loss: 1.6197 - val_accuracy: 0.9202\n",
      "Epoch 92/101\n",
      "1443/1443 [==============================] - 1476s 1s/step - loss: 0.0824 - accuracy: 0.9893 - val_loss: 1.6102 - val_accuracy: 0.9207\n",
      "Epoch 93/101\n",
      "1443/1443 [==============================] - 1523s 1s/step - loss: 0.0809 - accuracy: 0.9887 - val_loss: 1.6666 - val_accuracy: 0.9275\n",
      "Epoch 94/101\n",
      "1443/1443 [==============================] - 1566s 1s/step - loss: 0.0761 - accuracy: 0.9896 - val_loss: 1.6028 - val_accuracy: 0.9247\n",
      "Epoch 95/101\n",
      "1443/1443 [==============================] - 1569s 1s/step - loss: 0.0800 - accuracy: 0.9896 - val_loss: 1.7595 - val_accuracy: 0.9215\n",
      "Epoch 96/101\n",
      "1443/1443 [==============================] - 1509s 1s/step - loss: 0.0883 - accuracy: 0.9898 - val_loss: 1.5073 - val_accuracy: 0.9261\n",
      "Epoch 97/101\n",
      "1443/1443 [==============================] - 1530s 1s/step - loss: 0.0657 - accuracy: 0.9920 - val_loss: 1.9017 - val_accuracy: 0.9172\n",
      "Epoch 98/101\n",
      "1443/1443 [==============================] - 1630s 1s/step - loss: 0.0605 - accuracy: 0.9904 - val_loss: 1.9028 - val_accuracy: 0.9264\n",
      "Epoch 99/101\n",
      "1443/1443 [==============================] - 1648s 1s/step - loss: 0.0677 - accuracy: 0.9911 - val_loss: 1.4799 - val_accuracy: 0.9282\n",
      "Epoch 100/101\n",
      "1443/1443 [==============================] - 1632s 1s/step - loss: 0.0786 - accuracy: 0.9900 - val_loss: 1.6481 - val_accuracy: 0.9269\n",
      "Epoch 101/101\n",
      "1443/1443 [==============================] - 1681s 1s/step - loss: 0.0734 - accuracy: 0.9906 - val_loss: 1.5384 - val_accuracy: 0.9232\n"
     ]
    }
   ],
   "source": [
    "history = model.fit_generator(train_generator, \n",
    "                    epochs=epochs, \n",
    "                    validation_data=val_generator)\n"
   ]
  },
  {
   "cell_type": "code",
   "execution_count": 24,
   "metadata": {},
   "outputs": [],
   "source": [
    "acc = history.history['accuracy']\n",
    "val_acc = history.history['val_accuracy']"
   ]
  },
  {
   "cell_type": "code",
   "execution_count": 25,
   "metadata": {},
   "outputs": [],
   "source": [
    "loss = history.history['loss']\n",
    "val_loss = history.history['val_loss']"
   ]
  },
  {
   "cell_type": "code",
   "execution_count": 26,
   "metadata": {},
   "outputs": [
    {
     "data": {
      "text/plain": [
       "Text(0.5, 1.0, 'Training and Validation Accuracy')"
      ]
     },
     "execution_count": 26,
     "metadata": {},
     "output_type": "execute_result"
    },
    {
     "data": {
      "image/png": "[encoded data removed]",
      "text/plain": [
       "<Figure size 576x576 with 1 Axes>"
      ]
     },
     "metadata": {
      "needs_background": "light"
     },
     "output_type": "display_data"
    }
   ],
   "source": [
    "plt.figure(figsize=(8, 8))\n",
    "plt.subplot(2, 1, 1)\n",
    "plt.plot(acc, label='Training Accuracy')\n",
    "plt.plot(val_acc, label='Validation Accuracy')\n",
    "plt.legend(loc='lower right')\n",
    "plt.ylabel('Accuracy')\n",
    "plt.ylim([min(plt.ylim()),1])\n",
    "plt.title('Training and Validation Accuracy')"
   ]
  },
  {
   "cell_type": "code",
   "execution_count": 27,
   "metadata": {},
   "outputs": [
    {
     "data": {
      "image/png": "[encoded data removed]",
      "text/plain": [
       "<Figure size 432x288 with 1 Axes>"
      ]
     },
     "metadata": {
      "needs_background": "light"
     },
     "output_type": "display_data"
    }
   ],
   "source": [
    "plt.subplot(2, 1, 2)\n",
    "plt.plot(loss, label='Training Loss')\n",
    "plt.plot(val_loss, label='Validation Loss')\n",
    "plt.legend(loc='upper right')\n",
    "plt.ylabel('Cross Entropy')\n",
    "plt.ylim([0,1.0])\n",
    "plt.title('Training and Validation Loss')\n",
    "plt.xlabel('epoch')\n",
    "plt.show()"
   ]
  },
  {
   "cell_type": "code",
   "execution_count": 28,
   "metadata": {},
   "outputs": [],
   "source": [
    "base_model.trainable = True"
   ]
  },
  {
   "cell_type": "code",
   "execution_count": 29,
   "metadata": {},
   "outputs": [
    {
     "name": "stdout",
     "output_type": "stream",
     "text": [
      "Number of layers in the base model:  154\n"
     ]
    }
   ],
   "source": [
    "print(\"Number of layers in the base model: \", len(base_model.layers))"
   ]
  },
  {
   "cell_type": "code",
   "execution_count": 30,
   "metadata": {},
   "outputs": [],
   "source": [
    "fine_tune_at = 101"
   ]
  },
  {
   "cell_type": "code",
   "execution_count": 31,
   "metadata": {},
   "outputs": [],
   "source": [
    "for layer in base_model.layers[:fine_tune_at]:\n",
    "  layer.trainable =  False"
   ]
  },
  {
   "cell_type": "code",
   "execution_count": 32,
   "metadata": {},
   "outputs": [],
   "source": [
    "model.compile(loss='categorical_crossentropy',\n",
    "              optimizer = tf.keras.optimizers.Adam(1e-5),\n",
    "              metrics=['accuracy'])"
   ]
  },
  {
   "cell_type": "code",
   "execution_count": 33,
   "metadata": {
    "scrolled": true
   },
   "outputs": [
    {
     "name": "stdout",
     "output_type": "stream",
     "text": [
      "Model: \"sequential\"\n",
      "_________________________________________________________________\n",
      "Layer (type)                 Output Shape              Param #   \n",
      "=================================================================\n",
      "mobilenetv2_1.00_224 (Functi (None, 8, 8, 1280)        2257984   \n",
      "_________________________________________________________________\n",
      "conv2d (Conv2D)              (None, 6, 6, 32)          368672    \n",
      "_________________________________________________________________\n",
      "conv2d_1 (Conv2D)            (None, 4, 4, 64)          18496     \n",
      "_________________________________________________________________\n",
      "conv2d_2 (Conv2D)            (None, 2, 2, 128)         73856     \n",
      "_________________________________________________________________\n",
      "dropout (Dropout)            (None, 2, 2, 128)         0         \n",
      "_________________________________________________________________\n",
      "global_average_pooling2d (Gl (None, 128)               0         \n",
      "_________________________________________________________________\n",
      "dense (Dense)                (None, 47)                6063      \n",
      "=================================================================\n",
      "Total params: 2,725,071\n",
      "Trainable params: 2,328,527\n",
      "Non-trainable params: 396,544\n",
      "_________________________________________________________________\n"
     ]
    }
   ],
   "source": [
    "model.summary()"
   ]
  },
  {
   "cell_type": "code",
   "execution_count": 34,
   "metadata": {},
   "outputs": [
    {
     "name": "stdout",
     "output_type": "stream",
     "text": [
      "Number of trainable variables = 62\n"
     ]
    }
   ],
   "source": [
    "print('Number of trainable variables = {}'.format(len(model.trainable_variables)))"
   ]
  },
  {
   "cell_type": "code",
   "execution_count": 35,
   "metadata": {},
   "outputs": [
    {
     "name": "stdout",
     "output_type": "stream",
     "text": [
      "Epoch 1/11\n",
      "1443/1443 [==============================] - 1632s 1s/step - loss: 25.5923 - accuracy: 0.4586 - val_loss: 3.2489 - val_accuracy: 0.7796\n",
      "Epoch 2/11\n",
      "1443/1443 [==============================] - 1847s 1s/step - loss: 3.9092 - accuracy: 0.6414 - val_loss: 2.8088 - val_accuracy: 0.7228\n",
      "Epoch 3/11\n",
      "1443/1443 [==============================] - 1810s 1s/step - loss: 2.3045 - accuracy: 0.6885 - val_loss: 2.2382 - val_accuracy: 0.7408\n",
      "Epoch 4/11\n",
      "1443/1443 [==============================] - 1825s 1s/step - loss: 1.6337 - accuracy: 0.7391 - val_loss: 1.7792 - val_accuracy: 0.7766\n",
      "Epoch 5/11\n",
      "1443/1443 [==============================] - 2037s 1s/step - loss: 1.3482 - accuracy: 0.7788 - val_loss: 1.4190 - val_accuracy: 0.8015\n",
      "Epoch 6/11\n",
      "1443/1443 [==============================] - 1891s 1s/step - loss: 0.9726 - accuracy: 0.8166 - val_loss: 1.1771 - val_accuracy: 0.8345\n",
      "Epoch 7/11\n",
      "1443/1443 [==============================] - 1942s 1s/step - loss: 0.8045 - accuracy: 0.8448 - val_loss: 1.0191 - val_accuracy: 0.8536\n",
      "Epoch 8/11\n",
      "1443/1443 [==============================] - 1947s 1s/step - loss: 0.6368 - accuracy: 0.8691 - val_loss: 0.9880 - val_accuracy: 0.8713\n",
      "Epoch 9/11\n",
      "1443/1443 [==============================] - 2039s 1s/step - loss: 0.5528 - accuracy: 0.8863 - val_loss: 0.9130 - val_accuracy: 0.8861\n",
      "Epoch 10/11\n",
      "1443/1443 [==============================] - 2301s 2s/step - loss: 0.4784 - accuracy: 0.9016 - val_loss: 0.8259 - val_accuracy: 0.8974\n",
      "Epoch 11/11\n",
      "1443/1443 [==============================] - 2413s 2s/step - loss: 0.4187 - accuracy: 0.9156 - val_loss: 0.7944 - val_accuracy: 0.9052\n"
     ]
    }
   ],
   "source": [
    "history_fine = model.fit_generator(train_generator, \n",
    "                         epochs=11,\n",
    "                         validation_data=val_generator)"
   ]
  },
  {
   "cell_type": "code",
   "execution_count": 36,
   "metadata": {},
   "outputs": [
    {
     "name": "stdout",
     "output_type": "stream",
     "text": [
      "INFO:tensorflow:Assets written to: .\\assets\n"
     ]
    }
   ],
   "source": [
    "saved_model_dir = '.'\n",
    "tf.saved_model.save(model, saved_model_dir)"
   ]
  },
  {
   "cell_type": "code",
   "execution_count": 37,
   "metadata": {},
   "outputs": [],
   "source": [
    "converter = tf.lite.TFLiteConverter.from_saved_model(saved_model_dir)\n",
    "tflite_model = converter.convert()"
   ]
  },
  {
   "cell_type": "code",
   "execution_count": 38,
   "metadata": {},
   "outputs": [],
   "source": [
    "with open('new_model.tflite', 'wb') as f:\n",
    "  f.write(tflite_model)"
   ]
  },
  {
   "cell_type": "code",
   "execution_count": 39,
   "metadata": {},
   "outputs": [],
   "source": [
    "acc = history_fine.history['accuracy']\n",
    "val_acc = history_fine.history['val_accuracy']"
   ]
  },
  {
   "cell_type": "code",
   "execution_count": 40,
   "metadata": {},
   "outputs": [],
   "source": [
    "loss = history_fine.history['loss']\n",
    "val_loss = history_fine.history['val_loss']"
   ]
  },
  {
   "cell_type": "code",
   "execution_count": 41,
   "metadata": {},
   "outputs": [
    {
     "data": {
      "text/plain": [
       "Text(0.5, 1.0, 'Training and Validation Accuracy')"
      ]
     },
     "execution_count": 41,
     "metadata": {},
     "output_type": "execute_result"
    },
    {
     "data": {
      "image/png": "[encoded data removed]",
      "text/plain": [
       "<Figure size 576x576 with 1 Axes>"
      ]
     },
     "metadata": {
      "needs_background": "light"
     },
     "output_type": "display_data"
    }
   ],
   "source": [
    "plt.figure(figsize=(8, 8))\n",
    "plt.subplot(2, 1, 1)\n",
    "plt.plot(acc, label='Training Accuracy')\n",
    "plt.plot(val_acc, label='Validation Accuracy')\n",
    "plt.legend(loc='lower right')\n",
    "plt.ylabel('Accuracy')\n",
    "plt.ylim([min(plt.ylim()),1])\n",
    "plt.title('Training and Validation Accuracy')"
   ]
  },
  {
   "cell_type": "code",
   "execution_count": 42,
   "metadata": {},
   "outputs": [
    {
     "data": {
      "image/png": "[encoded data removed]",
      "text/plain": [
       "<Figure size 432x288 with 1 Axes>"
      ]
     },
     "metadata": {
      "needs_background": "light"
     },
     "output_type": "display_data"
    }
   ],
   "source": [
    "plt.subplot(2, 1, 2)\n",
    "plt.plot(loss, label='Training Loss')\n",
    "plt.plot(val_loss, label='Validation Loss')\n",
    "plt.legend(loc='upper right')\n",
    "plt.ylabel('Cross Entropy')\n",
    "plt.ylim([0,1.0])\n",
    "plt.title('Training and Validation Loss')\n",
    "plt.xlabel('epoch')\n",
    "plt.show()"
   ]
  },
  {
   "cell_type": "code",
   "execution_count": null,
   "metadata": {},
   "outputs": [],
   "source": []
  },
  {
   "cell_type": "code",
   "execution_count": null,
   "metadata": {},
   "outputs": [],
   "source": []
  },
  {
   "cell_type": "code",
   "execution_count": null,
   "metadata": {},
   "outputs": [],
   "source": []
  }
 ],
 "metadata": {
  "kernelspec": {
   "display_name": "Python 3",
   "language": "python",
   "name": "python3"
  },
  "language_info": {
   "codemirror_mode": {
    "name": "ipython",
    "version": 3
   },
   "file_extension": ".py",
   "mimetype": "text/x-python",
   "name": "python",
   "nbconvert_exporter": "python",
   "pygments_lexer": "ipython3",
   "version": "3.8.3"
  }
 },
 "nbformat": 4,
 "nbformat_minor": 4
}
